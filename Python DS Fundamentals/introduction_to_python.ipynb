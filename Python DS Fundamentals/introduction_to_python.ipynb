{
 "cells": [
  {
   "cell_type": "code",
   "execution_count": 2,
   "metadata": {},
   "outputs": [
    {
     "name": "stdout",
     "output_type": "stream",
     "text": [
      "True\n"
     ]
    }
   ],
   "source": [
    "#True = False   # Las variables no pueden ser asignadas con un Booleano\n",
    "\n",
    "while True:\n",
    "    print(True)\n",
    "    \n",
    "    break"
   ]
  },
  {
   "cell_type": "markdown",
   "metadata": {},
   "source": [
    "OOP (Programacion Orientada a Objetos)"
   ]
  },
  {
   "cell_type": "code",
   "execution_count": 46,
   "metadata": {},
   "outputs": [],
   "source": [
    "# Definimos una clase  \n",
    "\n",
    "# un carro tiene: modelo, color, tamaño, combustible, capacidad_combustible .\n",
    "#\n",
    "class Car: #se define la clase car\n",
    "    # definimos el metodo de inicio\n",
    "    def __init__(self):\n",
    "        print(\"El carro fue creado!\") # esto se imprime por pantalla cuando instanciamos un objeto\n",
    "        # Creamos atributos o propiedades de la clase Car\n",
    "        self.model=\"Tesla\"\n",
    "        self.color = \"negro\"\n",
    "        self.tamaño = 1000\n",
    "        self.combustible = \"electrico\"\n",
    "        self.combustible_cap = 10000\n",
    "    \n",
    "    # Definimos metodos de la clase car    \n",
    "    def di_hola(self):\n",
    "        print(\"Hola mundo\")\n",
    "    \n",
    "    def mi_color(self):\n",
    "        print(\"Mi color es\", self.color)  \n",
    "    \n",
    "    def combustible_gastado(self, cant_combust ):\n",
    "        self.combustible_cap -= cant_combust\n",
    "        print(\"Consumiste\", cant_combust, \"te quedan\", new_car.combustible_cap)\n",
    "        \n",
    "                  "
   ]
  },
  {
   "cell_type": "code",
   "execution_count": 47,
   "metadata": {},
   "outputs": [
    {
     "name": "stdout",
     "output_type": "stream",
     "text": [
      "El carro fue creado!\n",
      "<class '__main__.Car'>\n"
     ]
    }
   ],
   "source": [
    "new_car = Car() #instanciamos una variable con la clase Car\n",
    "print(type(new_car)) #imprime el tipo de dato de la variable \"new_car\""
   ]
  },
  {
   "cell_type": "code",
   "execution_count": 29,
   "metadata": {},
   "outputs": [
    {
     "name": "stdout",
     "output_type": "stream",
     "text": [
      "Tesla\n",
      "negro\n",
      "1000\n",
      "electrico\n",
      "10000\n"
     ]
    }
   ],
   "source": [
    "# imprimimos los atributos de la clase\n",
    "print(new_car.model)\n",
    "print(new_car.color)\n",
    "print(new_car.tamaño)\n",
    "print(new_car.combustible)\n",
    "print(new_car.combustible_cap)"
   ]
  },
  {
   "cell_type": "code",
   "execution_count": 48,
   "metadata": {},
   "outputs": [
    {
     "name": "stdout",
     "output_type": "stream",
     "text": [
      "Hola mundo\n",
      "Mi color es negro\n",
      "Consumiste 1000 te quedan 9000\n"
     ]
    }
   ],
   "source": [
    "# imprimimos los atributos de la clase\n",
    "new_car.di_hola()\n",
    "new_car.mi_color()\n",
    "new_car.combustible_gastado(1000)\n"
   ]
  },
  {
   "cell_type": "code",
   "execution_count": null,
   "metadata": {},
   "outputs": [],
   "source": []
  }
 ],
 "metadata": {
  "kernelspec": {
   "display_name": "Python 3",
   "language": "python",
   "name": "python3"
  },
  "language_info": {
   "codemirror_mode": {
    "name": "ipython",
    "version": 3
   },
   "file_extension": ".py",
   "mimetype": "text/x-python",
   "name": "python",
   "nbconvert_exporter": "python",
   "pygments_lexer": "ipython3",
   "version": "3.12.3"
  }
 },
 "nbformat": 4,
 "nbformat_minor": 2
}
